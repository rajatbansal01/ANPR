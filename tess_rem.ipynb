{
 "cells": [
  {
   "cell_type": "code",
   "execution_count": 2,
   "metadata": {},
   "outputs": [
    {
     "name": "stdout",
     "output_type": "stream",
     "text": [
      "Loading model successfully...\n"
     ]
    }
   ],
   "source": [
    "from functions import *"
   ]
  },
  {
   "cell_type": "code",
   "execution_count": 12,
   "metadata": {},
   "outputs": [],
   "source": [
    "from params import *\n",
    "import requests\n",
    "import matplotlib.pyplot as plt\n",
    "import params\n",
    "import json"
   ]
  },
  {
   "cell_type": "code",
   "execution_count": 13,
   "metadata": {},
   "outputs": [],
   "source": [
    "def ocr_space():\n",
    "    files = {'file' : open('plate.png', 'rb')}\n",
    "    r = requests.post(url = API_ENDPOINT, headers=headers, data=data, files = files)\n",
    "    d = json.loads(r.text)\n",
    "    number = d['ParsedResults'][0]['ParsedText']\n",
    "    s = []\n",
    "    for i in number:\n",
    "        if i.isalnum() and (not i.islower()):\n",
    "            s.append(i)\n",
    "    return(\"\".join(s))"
   ]
  },
  {
   "cell_type": "code",
   "execution_count": 14,
   "metadata": {},
   "outputs": [],
   "source": [
    "def find_num_updated(img):\n",
    "    #img = cv2.imread(path)\n",
    "    LpImg =0\n",
    "    try:\n",
    "        vehicle, LpImg,cor = get_plate(img)\n",
    "    except AssertionError:\n",
    "        pass\n",
    "    s=[]\n",
    "    if LpImg:\n",
    "        ocr_image=image_for_ocr(LpImg)[2]\n",
    "        cv2.imwrite(\"plate.png\", ocr_image)\n",
    "        number= ocr_space()\n",
    "        return(number,ocr_image)\n",
    "    else:\n",
    "        return(0)"
   ]
  },
  {
   "cell_type": "code",
   "execution_count": 16,
   "metadata": {},
   "outputs": [
    {
     "data": {
      "text/plain": [
       "'12DE1433'"
      ]
     },
     "execution_count": 16,
     "metadata": {},
     "output_type": "execute_result"
    }
   ],
   "source": [
    "num, img = find_num_updated(cv2.imread('car.jpg'))\n",
    "num"
   ]
  },
  {
   "cell_type": "code",
   "execution_count": null,
   "metadata": {},
   "outputs": [],
   "source": [
    "img = cv2.imread(\"car.jpg\")\n",
    "vehicle, LpImg,cor = get_plate(img)\n",
    "plate = image_for_ocr(LpImg)[2]\n",
    "plt.imshow(plate)"
   ]
  },
  {
   "cell_type": "code",
   "execution_count": null,
   "metadata": {},
   "outputs": [],
   "source": [
    "cv2.imwrite(\"plate.png\", plate)"
   ]
  },
  {
   "cell_type": "code",
   "execution_count": 8,
   "metadata": {},
   "outputs": [],
   "source": []
  },
  {
   "cell_type": "code",
   "execution_count": null,
   "metadata": {},
   "outputs": [],
   "source": [
    "close"
   ]
  },
  {
   "cell_type": "code",
   "execution_count": null,
   "metadata": {},
   "outputs": [],
   "source": [
    "import json\n"
   ]
  },
  {
   "cell_type": "code",
   "execution_count": null,
   "metadata": {},
   "outputs": [],
   "source": []
  },
  {
   "cell_type": "code",
   "execution_count": null,
   "metadata": {},
   "outputs": [],
   "source": []
  },
  {
   "cell_type": "code",
   "execution_count": null,
   "metadata": {},
   "outputs": [],
   "source": []
  },
  {
   "cell_type": "code",
   "execution_count": null,
   "metadata": {},
   "outputs": [],
   "source": []
  }
 ],
 "metadata": {
  "kernelspec": {
   "display_name": "Python 3",
   "language": "python",
   "name": "python3"
  },
  "language_info": {
   "codemirror_mode": {
    "name": "ipython",
    "version": 3
   },
   "file_extension": ".py",
   "mimetype": "text/x-python",
   "name": "python",
   "nbconvert_exporter": "python",
   "pygments_lexer": "ipython3",
   "version": "3.7.9"
  }
 },
 "nbformat": 4,
 "nbformat_minor": 4
}
